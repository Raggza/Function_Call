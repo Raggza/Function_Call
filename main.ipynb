{
 "cells": [
  {
   "cell_type": "code",
   "execution_count": 2,
   "metadata": {},
   "outputs": [],
   "source": [
    "import json\n",
    "import chromadb\n",
    "from function import get_market_info_token, get_portfolio"
   ]
  },
  {
   "cell_type": "code",
   "execution_count": 1,
   "metadata": {},
   "outputs": [],
   "source": [
    "from openai import OpenAI\n",
    "\n",
    "model_repo = {\n",
    "    'llama3': {\n",
    "        'client': OpenAI(\n",
    "            api_key = 'YOUR_API_KEY',\n",
    "            base_url = 'YOUR_URL'\n",
    "        ),\n",
    "        'model': 'Llama3-70b-8192'\n",
    "    }\n",
    "}"
   ]
  },
  {
   "cell_type": "code",
   "execution_count": 5,
   "metadata": {},
   "outputs": [],
   "source": [
    "tools = [\n",
    "    {\n",
    "        \"function\": {\n",
    "            \"name\": \"get_market_info_token\",\n",
    "            \"description\": \"Retrieve market information for a specific token, including Price, Market cap, FDV, rank, category, chain, using the CoinGecko API.\\n\"\n",
    "            \"    \\n\"\n",
    "            \"    Args:\\n\"\n",
    "            f\"        tokenSymbol (str): The input token symbol. for example: btc, eth, bnb... MUST be in {symbol_to_id} if existed.\\n\"\n",
    "            f\"        actionType (str): Type of action from input (market cap, volume, price, fdv).\\n\"\n",
    "            f\"        interval (str, optional): The interval time is not used in this function as CoinGecko does not provide historical data directly through the simple price endpoint.\\n\"\n",
    "            \"    \\n\"\n",
    "            \"    Returns:\\n\"\n",
    "            f\"        The market information of the specified token.\\n\",\n",
    "            \"parameters\": {\n",
    "                \"properties\": {\n",
    "                    \"tokenSymbol\": {\"type\": \"string\"},\n",
    "                    \"actionType\": {\"type\": \"string\"},\n",
    "                    \"interval\": {\"type\": \"string\"},\n",
    "                },\n",
    "                \"required\": [\"tokenSymbol\", \"actionType\"],\n",
    "                \"type\": \"object\",\n",
    "            },\n",
    "        },\n",
    "        \"type\": \"function\",\n",
    "    },\n",
    "    {\n",
    "        \"function\": {\n",
    "            \"name\": \"get_portfolio\",\n",
    "            \"description\": \"Get the current portfolio or balance of the user. This function must be called before any actions like swapping to get the exact user balance.\\n\"\n",
    "            \"    \\n\"\n",
    "            \"    Args:\\n\"\n",
    "            f\"        threadId (str): The thread id of the user.\\n\"\n",
    "            \"    \\n\"\n",
    "            \"    Returns:\\n\"\n",
    "            f\"        The portfolio/balance of the user.\\n\",\n",
    "            \"parameters\": {\n",
    "                \"properties\": {\n",
    "                    \"threadId\": {\"type\": \"string\"},\n",
    "                },\n",
    "                \"required\": [\"threadId\"],\n",
    "                \"type\": \"object\",\n",
    "            },\n",
    "        },\n",
    "        \"type\": \"function\",\n",
    "    }\n",
    "]"
   ]
  },
  {
   "cell_type": "code",
   "execution_count": 6,
   "metadata": {},
   "outputs": [],
   "source": [
    "def inference(messages, **kwargs):\n",
    "    model = kwargs.get('model', \"llama3\")\n",
    "    max_tokens = kwargs.get('max_tokens', 1500)\n",
    "    temperature = kwargs.get('temperature', 0.0)\n",
    "    stream = kwargs.get('stream', False)\n",
    "\n",
    "    chat_response = model_repo[model]['client'].chat.completions.create(\n",
    "        model=model_repo[model]['model'],\n",
    "        messages=messages,\n",
    "        max_tokens=max_tokens,\n",
    "        temperature=temperature,\n",
    "        tools=tools,\n",
    "        tool_choice=\"auto\",\n",
    "        stream=stream\n",
    "    )\n",
    "\n",
    "    response_text = chat_response.choices[0].message\n",
    "    tool_calls = response_text.tool_calls\n",
    "    messages.append(response_text)\n",
    "    if tool_calls:\n",
    "        available_functions = {\n",
    "            \"get_market_info_token\": get_market_info_token,\n",
    "            \"get_portfolio\": get_portfolio\n",
    "        }\n",
    "        messages.append(response_text)\n",
    "        for tool_call in tool_calls:\n",
    "            function_name = tool_call.function.name\n",
    "            function_to_call = available_functions[function_name]\n",
    "            function_args = json.loads(tool_call.function.arguments)\n",
    "            function_response = function_to_call(**function_args)\n",
    "            messages.append(\n",
    "                {\n",
    "                    \"tool_call_id\": tool_call.id,\n",
    "                    \"role\": \"tool\",\n",
    "                    \"name\": function_name,\n",
    "                    \"content\": function_response,\n",
    "                }\n",
    "            )\n",
    "        second_response = model_repo[model]['client'].chat.completions.create(\n",
    "            model=model_repo[model]['model'],\n",
    "            messages=messages,\n",
    "            stream=stream,\n",
    "        )\n",
    "        if stream:\n",
    "            for chunk in second_response:\n",
    "                text = chunk.choices[0].delta.content\n",
    "                if text:\n",
    "                    yield text\n",
    "        else:\n",
    "            response_text = second_response.choices[0].message.content\n",
    "            yield response_text\n",
    "    else:\n",
    "        yield response_text.content"
   ]
  },
  {
   "cell_type": "code",
   "execution_count": 7,
   "metadata": {},
   "outputs": [],
   "source": [
    "db_examples = [\n",
    "    \"1st customer mean userId u001\",\n",
    "    \"35th customer mean userId u035\",\n",
    "    \"first customer mean userId u001\",\n",
    "    \"second customer mean userId u002\",\n",
    "]"
   ]
  },
  {
   "cell_type": "code",
   "execution_count": 8,
   "metadata": {},
   "outputs": [],
   "source": [
    "chroma_client = chromadb.Client()\n",
    "collection = chroma_client.create_collection(name=\"db_examples\")\n",
    "\n",
    "db_id = []\n",
    "for i in range(len(db_examples)):\n",
    "    db_id.append(\"id\" + str(i))\n",
    "\n",
    "collection.add(documents=db_examples, ids=db_id)"
   ]
  },
  {
   "cell_type": "code",
   "execution_count": 12,
   "metadata": {},
   "outputs": [],
   "source": [
    "content_prompt = \"Can you give me the price of Bitcoin?\"\n",
    "\n",
    "examples = collection.query(\n",
    "    query_texts= content_prompt,  # Chroma will embed this for you\n",
    "    n_results=3,  # how many results to return\n",
    ")\n",
    "examples = examples.get(\"documents\")"
   ]
  },
  {
   "cell_type": "code",
   "execution_count": 13,
   "metadata": {},
   "outputs": [],
   "source": [
    "system_prompt = \"\"\"\n",
    "You are a helpful assistant.\n",
    "If you can't call the function, you should tell the user to change the prompt\n",
    "You are provided with function signatures within <tools></tools> XML tags.\n",
    "Use them if required\n",
    "\n",
    "Here are the available tools:\n",
    "<tools> {tools} </tools>\n",
    "\n",
    "Here are some examples:\n",
    "{examples}\n",
    "\n",
    "Use the following pydantic model json schema for each tool call you will make: {'properties': {'arguments': {'title': 'Arguments', 'type': 'object'}, 'name': {'title': 'Name', 'type': 'string'}}, 'required': ['arguments', 'name'], 'title': 'FunctionCall', 'type': 'object'}\n",
    "\n",
    "Make sure that the json object above with code markdown block is parseable with json.loads() and the XML block with XML ElementTree.\n",
    "\"\"\".replace(\n",
    "    \"{tools}\", str(tools)\n",
    "). replace(\"{examples}\", str(examples))"
   ]
  },
  {
   "cell_type": "code",
   "execution_count": 14,
   "metadata": {},
   "outputs": [
    {
     "name": "stdout",
     "output_type": "stream",
     "text": [
      "The current price of Bitcoin is $66,290."
     ]
    }
   ],
   "source": [
    "for chunk in inference(\n",
    "    messages=[\n",
    "        {\"role\": \"system\", \"content\": system_prompt},\n",
    "        {\"role\": \"user\", \"content\": content_prompt}\n",
    "    ], temperature=0, strem=True):\n",
    "    print(chunk, end='')"
   ]
  }
 ],
 "metadata": {
  "kernelspec": {
   "display_name": "py312",
   "language": "python",
   "name": "python3"
  },
  "language_info": {
   "codemirror_mode": {
    "name": "ipython",
    "version": 3
   },
   "file_extension": ".py",
   "mimetype": "text/x-python",
   "name": "python",
   "nbconvert_exporter": "python",
   "pygments_lexer": "ipython3",
   "version": "3.12.3"
  }
 },
 "nbformat": 4,
 "nbformat_minor": 2
}
